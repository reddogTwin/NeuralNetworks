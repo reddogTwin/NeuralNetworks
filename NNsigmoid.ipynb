{
 "cells": [
  {
   "cell_type": "code",
   "execution_count": 4,
   "id": "e5818f9f-944d-4729-b150-f16851a887c5",
   "metadata": {
    "tags": []
   },
   "outputs": [],
   "source": [
    "# Wrapping the vectors in NumPy arrays\n",
    "import numpy as np\n",
    "input_vector = np.array([2, 1.5])\n",
    "weights_1 = np.array([1.45, -0.66])\n",
    "bias = np.array([0.0])"
   ]
  },
  {
   "cell_type": "code",
   "execution_count": 5,
   "id": "9f4c58b7-38d1-436b-9ca3-eae06fb0bcf6",
   "metadata": {
    "tags": []
   },
   "outputs": [],
   "source": [
    "def sigmoid(x):\n",
    "    ...:     return 1 / (1 + np.exp(-x))"
   ]
  },
  {
   "cell_type": "code",
   "execution_count": 6,
   "id": "69b5d6a2-2646-4600-8529-2be9b3b5739a",
   "metadata": {
    "tags": []
   },
   "outputs": [
    {
     "name": "stdout",
     "output_type": "stream",
     "text": [
      "The prediction result is: [0.87101915]\n"
     ]
    }
   ],
   "source": [
    "def make_prediction(input_vector, weights, bias):\n",
    "   ...:      layer_1 = np.dot(input_vector, weights) + bias\n",
    "   ...:      layer_2 = sigmoid(layer_1)\n",
    "   ...:      return layer_2\n",
    "\n",
    "prediction = make_prediction(input_vector, weights_1, bias)\n",
    "\n",
    "print(f\"The prediction result is: {prediction}\")"
   ]
  },
  {
   "cell_type": "code",
   "execution_count": null,
   "id": "46ba190b-8e03-4a49-a10c-7ad10c88af8d",
   "metadata": {},
   "outputs": [],
   "source": []
  }
 ],
 "metadata": {
  "kernelspec": {
   "display_name": "Python 3 (ipykernel)",
   "language": "python",
   "name": "python3"
  },
  "language_info": {
   "codemirror_mode": {
    "name": "ipython",
    "version": 3
   },
   "file_extension": ".py",
   "mimetype": "text/x-python",
   "name": "python",
   "nbconvert_exporter": "python",
   "pygments_lexer": "ipython3",
   "version": "3.11.5"
  }
 },
 "nbformat": 4,
 "nbformat_minor": 5
}
